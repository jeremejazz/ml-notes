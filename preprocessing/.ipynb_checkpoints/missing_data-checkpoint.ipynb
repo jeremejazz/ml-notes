{
 "cells": [
  {
   "cell_type": "markdown",
   "metadata": {},
   "source": [
    "First section in the tutorial class was about loading the data csv data in spyder\n",
    "\n",
    "Here we have a file (Data.csv) that contains the following data \n",
    "\n",
    "**Country**|**Age**|**Salary**|**Purchased**\n",
    ":-----:|:-----:|:-----:|:-----:\n",
    "France|44.0|72000.0|No\n",
    "Spain|27.0|48000.0|Yes\n",
    "Germany|30.0|54000.0|No\n",
    "Spain|38.0|61000.0|No\n",
    "Germany|40.0| |Yes\n",
    "France|35.0|58000.0|Yes\n",
    "Spain| |52000.0|No\n",
    "France|48.0|79000.0|Yes\n",
    "Germany|50.0|83000.0|No\n",
    "France|37.0|67000.0|Yes\n",
    "\n",
    "As you can see we have two missing data for Age column in Spain and the Salary column in Germany.\n",
    "\n",
    "We can compute for the missing data by getting the means which uses the average of the other rows.\n",
    "\n",
    "We will need the to import the following libraries to prepare our code:\n"
   ]
  },
  {
   "cell_type": "code",
   "execution_count": 1,
   "metadata": {
    "collapsed": true
   },
   "outputs": [],
   "source": [
    "import numpy as np\n",
    "import matplotlib.pyplot as plt\n",
    "import pandas as pd\n"
   ]
  },
  {
   "cell_type": "markdown",
   "metadata": {},
   "source": [
    "`numpy` will be the array storage for data. `matplotlib` and `pandas` is needed for visualization \n",
    "\n",
    "\n",
    "Next we need to import the data. It is best to save the file along with `Data.csv` in order to easily do a relative path"
   ]
  },
  {
   "cell_type": "code",
   "execution_count": 7,
   "metadata": {},
   "outputs": [
    {
     "name": "stdout",
     "output_type": "stream",
     "text": [
      "X:  [['France' 44.0 72000.0]\n",
      " ['Spain' 27.0 48000.0]\n",
      " ['Germany' 30.0 54000.0]\n",
      " ['Spain' 38.0 61000.0]\n",
      " ['Germany' 40.0 nan]\n",
      " ['France' 35.0 58000.0]\n",
      " ['Spain' nan 52000.0]\n",
      " ['France' 48.0 79000.0]\n",
      " ['Germany' 50.0 83000.0]\n",
      " ['France' 37.0 67000.0]]\n",
      "Y:  ['No' 'Yes' 'No' 'No' 'Yes' 'Yes' 'No' 'Yes' 'No' 'Yes']\n"
     ]
    }
   ],
   "source": [
    "dataset = pd.read_csv('Data.csv')\n",
    "X = dataset.iloc[:, :-1].values\n",
    "Y = dataset.iloc[:,3].values\n",
    "print (\"X: \", X)\n",
    "print (\"Y: \", Y)"
   ]
  },
  {
   "cell_type": "markdown",
   "metadata": {},
   "source": [
    "Next thing we will be needing is to import the Imputer module. You don't necessarily need to put this in the beginning and selecting and running it would be fine. We will have to assign the imputer object as well"
   ]
  },
  {
   "cell_type": "code",
   "execution_count": 9,
   "metadata": {
    "collapsed": true
   },
   "outputs": [],
   "source": [
    "from sklearn.preprocessing import Imputer\n",
    "\n",
    "imputer = Imputer(missing_values=\"NaN\", strategy='median', axis=0)\n"
   ]
  },
  {
   "cell_type": "markdown",
   "metadata": {},
   "source": [
    "As an explanation for the code above we set the configuration to look for missing values using the **median** strategy. The **axis** parameter set to **0** pertains to process the column while **1**  is for the rows. Since we need to compute for the column we will be using 0.\n",
    "\n",
    "\n",
    "****************************************\n",
    "**Tip:**\n",
    "Spyder provides a quick documentation when you highlight a function/module (say Imputer) then press Ctrl+i that becomes displayed in the Help window. You can use this to view other available strategies and experiment on them\n",
    "****************************************"
   ]
  },
  {
   "cell_type": "code",
   "execution_count": 10,
   "metadata": {},
   "outputs": [],
   "source": [
    "imputer = imputer.fit(X[:, 1:3])\n",
    "X[:,1:3] = imputer.transform(X[:,1:3])"
   ]
  },
  {
   "cell_type": "markdown",
   "metadata": {},
   "source": [
    "Since we don't need the Country column we will just use the 2nd and 3rd column using python's slicing method. \n",
    "\n",
    "If we view X in the compiler, we can now see that the missing data has been filled out with the average. This can be verified by manually computing the average of the other rows.\n"
   ]
  },
  {
   "cell_type": "code",
   "execution_count": 11,
   "metadata": {},
   "outputs": [
    {
     "name": "stdout",
     "output_type": "stream",
     "text": [
      "[['France' 44.0 72000.0]\n",
      " ['Spain' 27.0 48000.0]\n",
      " ['Germany' 30.0 54000.0]\n",
      " ['Spain' 38.0 61000.0]\n",
      " ['Germany' 40.0 61000.0]\n",
      " ['France' 35.0 58000.0]\n",
      " ['Spain' 38.0 52000.0]\n",
      " ['France' 48.0 79000.0]\n",
      " ['Germany' 50.0 83000.0]\n",
      " ['France' 37.0 67000.0]]\n"
     ]
    }
   ],
   "source": [
    "print(X)"
   ]
  },
  {
   "cell_type": "code",
   "execution_count": null,
   "metadata": {
    "collapsed": true
   },
   "outputs": [],
   "source": []
  }
 ],
 "metadata": {
  "kernelspec": {
   "display_name": "Python 3",
   "language": "python",
   "name": "python3"
  },
  "language_info": {
   "codemirror_mode": {
    "name": "ipython",
    "version": 3
   },
   "file_extension": ".py",
   "mimetype": "text/x-python",
   "name": "python",
   "nbconvert_exporter": "python",
   "pygments_lexer": "ipython3",
   "version": "3.6.1"
  }
 },
 "nbformat": 4,
 "nbformat_minor": 2
}
